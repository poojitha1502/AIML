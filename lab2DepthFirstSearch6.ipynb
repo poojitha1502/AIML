{
  "nbformat": 4,
  "nbformat_minor": 0,
  "metadata": {
    "colab": {
      "provenance": [],
      "include_colab_link": true
    },
    "kernelspec": {
      "name": "python3",
      "display_name": "Python 3"
    },
    "language_info": {
      "name": "python"
    }
  },
  "cells": [
    {
      "cell_type": "markdown",
      "metadata": {
        "id": "view-in-github",
        "colab_type": "text"
      },
      "source": [
        "<a href=\"https://colab.research.google.com/github/poojitha1502/AIML/blob/main/lab2DepthFirstSearch6.ipynb\" target=\"_parent\"><img src=\"https://colab.research.google.com/assets/colab-badge.svg\" alt=\"Open In Colab\"/></a>"
      ]
    },
    {
      "cell_type": "code",
      "execution_count": null,
      "metadata": {
        "colab": {
          "base_uri": "https://localhost:8080/"
        },
        "id": "yFyherA35g4w",
        "outputId": "12f30d75-be14-42a4-a9e6-b2d0df461f5c"
      },
      "outputs": [
        {
          "output_type": "stream",
          "name": "stdout",
          "text": [
            "['B', 'A', 'S', 'C', 'D', 'E', 'H', 'G', 'F']\n"
          ]
        }
      ],
      "source": [
        "graph1 = {\n",
        "      'A' : ['B','S'],\n",
        "      'B' : ['A'],\n",
        "      'C' : ['D','E','F','S'],\n",
        "      'D' : ['C'],\n",
        "      'E' : ['C','H'],\n",
        "      'F' : ['C','G'],\n",
        "      'G' : ['H','S'],\n",
        "      'H' : ['E','G'],\n",
        "      'S' : ['A','C','G']\n",
        "}\n",
        "\n",
        "def dfs(graph, node, visited):\n",
        "   if node not in visited:\n",
        "       visited.append(node)\n",
        "       for k in graph[node]:\n",
        "            dfs(graph,k, visited)\n",
        "   return visited\n",
        "\n",
        "visited = dfs(graph1,'B', [])\n",
        "print(visited)"
      ]
    }
  ]
}