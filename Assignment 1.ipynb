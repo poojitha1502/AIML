{
  "nbformat": 4,
  "nbformat_minor": 0,
  "metadata": {
    "colab": {
      "provenance": [],
      "include_colab_link": true
    },
    "kernelspec": {
      "name": "python3",
      "display_name": "Python 3"
    },
    "language_info": {
      "name": "python"
    }
  },
  "cells": [
    {
      "cell_type": "markdown",
      "metadata": {
        "id": "view-in-github",
        "colab_type": "text"
      },
      "source": [
        "<a href=\"https://colab.research.google.com/github/poojitha1502/AIML/blob/main/Assignment%201.ipynb\" target=\"_parent\"><img src=\"https://colab.research.google.com/assets/colab-badge.svg\" alt=\"Open In Colab\"/></a>"
      ]
    },
    {
      "cell_type": "code",
      "execution_count": null,
      "metadata": {
        "colab": {
          "base_uri": "https://localhost:8080/"
        },
        "id": "L38q8JR7jPNE",
        "outputId": "1a08c460-5968-47a6-f782-a3bf4f7285a6"
      },
      "outputs": [
        {
          "output_type": "stream",
          "name": "stdout",
          "text": [
            "[1, 2, 3, 4, 5]\n",
            "[10 20 30 40 50]\n",
            "Type of list_1: <class 'list'>\n",
            "Type of array_1: <class 'numpy.ndarray'>\n",
            "Multiplication: [ 20  40  60  80 100]\n",
            "Division: [ 5. 10. 15. 20. 25.]\n",
            "Poweroff: [ 100  400  900 1600 2500]\n",
            "Addition of two arrays: [10 20 30 40 50] + [ 5 10 15 20 25] = [15 30 45 60 75]\n",
            "akhila cherepally\n",
            "Sin values: [-0.54402111  0.91294525 -0.98803162  0.74511316 -0.26237485]\n",
            "Log values: [2.30258509 2.99573227 3.40119738 3.68887945 3.91202301]\n",
            "Log2 values: [3.32192809 4.32192809 4.9068906  5.32192809 5.64385619]\n",
            "Exp values: [2.20264658e+04 4.85165195e+08 1.06864746e+13 2.35385267e+17\n",
            " 5.18470553e+21]\n"
          ]
        }
      ],
      "source": [
        "import numpy as np\n",
        "import pandas as pd\n",
        "list=[1, 2, 3, 4, 5]\n",
        "array_1= np.array([10, 20, 30, 40, 50])\n",
        "print(list)\n",
        "print(array_1)\n",
        "print(\"Type of list_1:\", type(list))\n",
        "print(\"Type of array_1:\", type(array_1))\n",
        "multiplication = array_1 * 2\n",
        "division = array_1 / 2\n",
        "poweroff = np.power(array_1, 2)\n",
        "print(\"Multiplication:\", multiplication)\n",
        "print(\"Division:\", division)\n",
        "print(\"Poweroff:\", poweroff)\n",
        "array_2 = np.array([5, 10, 15, 20, 25])\n",
        "addition_result = array_1 + array_2\n",
        "m = f\"Addition of two arrays: {array_1} + {array_2} = {addition_result}\"\n",
        "print(m)\n",
        "str1 = \"akhila\"\n",
        "str2 = \" cherepally\"\n",
        "result = str1 +  str2\n",
        "print(result)\n",
        "sin_values = np.sin(array_1)\n",
        "log_values = np.log(array_1)\n",
        "log2_values = np.log2(array_1)\n",
        "exp_values = np.exp(array_1)\n",
        "print(\"Sin values:\", sin_values)\n",
        "print(\"Log values:\", log_values)\n",
        "print(\"Log2 values:\", log2_values)\n",
        "print(\"Exp values:\", exp_values)\n",
        "\n",
        "\n",
        "\n"
      ]
    }
  ]
}